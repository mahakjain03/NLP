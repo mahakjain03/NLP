{
 "cells": [
  {
   "cell_type": "code",
   "execution_count": 9,
   "id": "bc7effb3",
   "metadata": {},
   "outputs": [],
   "source": [
    "import nltk\n",
    "import re\n"
   ]
  },
  {
   "cell_type": "code",
   "execution_count": 20,
   "id": "26f8e18b",
   "metadata": {},
   "outputs": [
    {
     "name": "stdout",
     "output_type": "stream",
     "text": [
      "NLP articles are fun. But they are awfully difficult to write. NLP is not difficult, but the articles, wow would awfully make you think of writing NLP Books!\n"
     ]
    }
   ],
   "source": [
    "sentence = \"\"\"NLP articles are fun. But they are awfully difficult to write. NLP is not difficult, but the articles, wow would awfully make you think of writing NLP Books!\"\"\"\n",
    "print(sentence)"
   ]
  },
  {
   "cell_type": "code",
   "execution_count": 21,
   "id": "9c78bc68",
   "metadata": {},
   "outputs": [],
   "source": [
    "sentence= re.sub(r'[^\\w]', ' ', sentence)"
   ]
  },
  {
   "cell_type": "code",
   "execution_count": 22,
   "id": "2d84e850",
   "metadata": {},
   "outputs": [],
   "source": [
    "sentence = sentence.lower()"
   ]
  },
  {
   "cell_type": "code",
   "execution_count": 23,
   "id": "83eec433",
   "metadata": {},
   "outputs": [
    {
     "name": "stdout",
     "output_type": "stream",
     "text": [
      "['nlp', 'articles', 'are', 'fun', 'but', 'they', 'are', 'awfully', 'difficult', 'to', 'write', 'nlp', 'is', 'not', 'difficult', 'but', 'the', 'articles', 'wow', 'would', 'awfully', 'make', 'you', 'think', 'of', 'writing', 'nlp', 'books']\n"
     ]
    }
   ],
   "source": [
    "tokens = nltk.word_tokenize(sentence)\n",
    "print(tokens)"
   ]
  },
  {
   "cell_type": "code",
   "execution_count": 24,
   "id": "e60c38c6",
   "metadata": {},
   "outputs": [],
   "source": [
    "types = nltk.Counter(tokens)"
   ]
  },
  {
   "cell_type": "code",
   "execution_count": 18,
   "id": "2fba0aa5",
   "metadata": {},
   "outputs": [
    {
     "name": "stdout",
     "output_type": "stream",
     "text": [
      "75.0\n"
     ]
    }
   ],
   "source": [
    "TTR= (len(types)/len(tokens))*100\n",
    "print(TTR)"
   ]
  },
  {
   "cell_type": "code",
   "execution_count": null,
   "id": "73bc282f",
   "metadata": {},
   "outputs": [],
   "source": []
  }
 ],
 "metadata": {
  "kernelspec": {
   "display_name": "Python 3 (ipykernel)",
   "language": "python",
   "name": "python3"
  },
  "language_info": {
   "codemirror_mode": {
    "name": "ipython",
    "version": 3
   },
   "file_extension": ".py",
   "mimetype": "text/x-python",
   "name": "python",
   "nbconvert_exporter": "python",
   "pygments_lexer": "ipython3",
   "version": "3.10.0"
  }
 },
 "nbformat": 4,
 "nbformat_minor": 5
}
