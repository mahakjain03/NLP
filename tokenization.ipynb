{
 "cells": [
  {
   "cell_type": "code",
   "execution_count": 2,
   "id": "ad13ab4b",
   "metadata": {},
   "outputs": [
    {
     "name": "stdout",
     "output_type": "stream",
     "text": [
      "For me it has to do with the work that gets done at the crossroads of digital media and traditional humanistic study. And that happens in two different ways. On the one hand, it's bringing the tools and techniques of digital media to bear on traditional humanistic questions; on the other, it's also bringing humanistic modes of inquiry to bear on digital media.\n"
     ]
    }
   ],
   "source": [
    "sentence =  \"For me it has to do with the work that gets done at the crossroads of \\\n",
    "digital media and traditional humanistic study. And that happens in two different ways. \\\n",
    "On the one hand, it's bringing the tools and techniques of digital media to bear \\\n",
    "on traditional humanistic questions; on the other, it's also bringing humanistic modes \\\n",
    "of inquiry to bear on digital media.\"\n",
    "print(sentence)"
   ]
  },
  {
   "cell_type": "markdown",
   "id": "27571c0d",
   "metadata": {},
   "source": [
    "# tokenizing text"
   ]
  },
  {
   "cell_type": "code",
   "execution_count": 3,
   "id": "19bff2b3",
   "metadata": {},
   "outputs": [],
   "source": [
    "import nltk"
   ]
  },
  {
   "cell_type": "code",
   "execution_count": 5,
   "id": "4fd409db",
   "metadata": {},
   "outputs": [],
   "source": [
    "from nltk import word_tokenize"
   ]
  },
  {
   "cell_type": "code",
   "execution_count": 8,
   "id": "b12cccc2",
   "metadata": {},
   "outputs": [
    {
     "name": "stdout",
     "output_type": "stream",
     "text": [
      "['For', 'me', 'it', 'has', 'to', 'do', 'with', 'the', 'work', 'that', 'gets', 'done', 'at', 'the', 'crossroads', 'of', 'digital', 'media', 'and', 'traditional', 'humanistic', 'study', '.', 'And', 'that', 'happens', 'in', 'two', 'different', 'ways', '.', 'On', 'the', 'one', 'hand', ',', 'it', \"'s\", 'bringing', 'the', 'tools', 'and', 'techniques', 'of', 'digital', 'media', 'to', 'bear', 'on', 'traditional', 'humanistic', 'questions', ';', 'on', 'the', 'other', ',', 'it', \"'s\", 'also', 'bringing', 'humanistic', 'modes', 'of', 'inquiry', 'to', 'bear', 'on', 'digital', 'media', '.']\n"
     ]
    }
   ],
   "source": [
    "sentence_tokens = word_tokenize(sentence)\n",
    "print(sentence_tokens)"
   ]
  },
  {
   "cell_type": "code",
   "execution_count": 9,
   "id": "8d17a81f",
   "metadata": {},
   "outputs": [
    {
     "name": "stdout",
     "output_type": "stream",
     "text": [
      "71\n"
     ]
    }
   ],
   "source": [
    "print(len(sentence_tokens))"
   ]
  },
  {
   "cell_type": "code",
   "execution_count": 12,
   "id": "4559fe4e",
   "metadata": {},
   "outputs": [
    {
     "name": "stdout",
     "output_type": "stream",
     "text": [
      "!\"#$%&'()*+,-./:;<=>?@[\\]^_`{|}~\n",
      "['!', '\"', '#', '$', '%', '&', \"'\", '(', ')', '*', '+', ',', '-', '.', '/', ':', ';', '<', '=', '>', '?', '@', '[', '\\\\', ']', '^', '_', '`', '{', '|', '}', '~']\n"
     ]
    }
   ],
   "source": [
    "import string\n",
    "print(string.punctuation)\n",
    "punctuations = list(string.punctuation)\n",
    "print(punctuations)"
   ]
  },
  {
   "cell_type": "code",
   "execution_count": 13,
   "id": "780c9a55",
   "metadata": {},
   "outputs": [
    {
     "name": "stdout",
     "output_type": "stream",
     "text": [
      "['For', 'me', 'it', 'has', 'to', 'do', 'with', 'the', 'work', 'that', 'gets', 'done', 'at', 'the', 'crossroads', 'of', 'digital', 'media', 'and', 'traditional', 'humanistic', 'study', 'And', 'that', 'happens', 'in', 'two', 'different', 'ways', 'On', 'the', 'one', 'hand', 'it', \"'s\", 'bringing', 'the', 'tools', 'and', 'techniques', 'of', 'digital', 'media', 'to', 'bear', 'on', 'traditional', 'humanistic', 'questions', 'on', 'the', 'other', 'it', \"'s\", 'also', 'bringing', 'humanistic', 'modes', 'of', 'inquiry', 'to', 'bear', 'on', 'digital', 'media']\n"
     ]
    }
   ],
   "source": [
    "sentence_tokens_clean = [word for word in sentence_tokens if word not in punctuations]\n",
    "print(sentence_tokens_clean)"
   ]
  },
  {
   "cell_type": "code",
   "execution_count": 14,
   "id": "b7f5138e",
   "metadata": {},
   "outputs": [
    {
     "data": {
      "text/plain": [
       "{\"'s\",\n",
       " 'And',\n",
       " 'For',\n",
       " 'On',\n",
       " 'also',\n",
       " 'and',\n",
       " 'at',\n",
       " 'bear',\n",
       " 'bringing',\n",
       " 'crossroads',\n",
       " 'different',\n",
       " 'digital',\n",
       " 'do',\n",
       " 'done',\n",
       " 'gets',\n",
       " 'hand',\n",
       " 'happens',\n",
       " 'has',\n",
       " 'humanistic',\n",
       " 'in',\n",
       " 'inquiry',\n",
       " 'it',\n",
       " 'me',\n",
       " 'media',\n",
       " 'modes',\n",
       " 'of',\n",
       " 'on',\n",
       " 'one',\n",
       " 'other',\n",
       " 'questions',\n",
       " 'study',\n",
       " 'techniques',\n",
       " 'that',\n",
       " 'the',\n",
       " 'to',\n",
       " 'tools',\n",
       " 'traditional',\n",
       " 'two',\n",
       " 'ways',\n",
       " 'with',\n",
       " 'work'}"
      ]
     },
     "execution_count": 14,
     "metadata": {},
     "output_type": "execute_result"
    }
   ],
   "source": [
    "set(sentence_tokens_clean)"
   ]
  },
  {
   "cell_type": "code",
   "execution_count": 16,
   "id": "65927879",
   "metadata": {},
   "outputs": [
    {
     "data": {
      "text/plain": [
       "{\"'s\",\n",
       " 'And',\n",
       " 'For',\n",
       " 'On',\n",
       " 'also',\n",
       " 'and',\n",
       " 'at',\n",
       " 'bear',\n",
       " 'bringing',\n",
       " 'crossroads',\n",
       " 'different',\n",
       " 'digital',\n",
       " 'do',\n",
       " 'done',\n",
       " 'gets',\n",
       " 'hand',\n",
       " 'happens',\n",
       " 'has',\n",
       " 'humanistic',\n",
       " 'in',\n",
       " 'inquiry',\n",
       " 'it',\n",
       " 'me',\n",
       " 'media',\n",
       " 'modes',\n",
       " 'of',\n",
       " 'on',\n",
       " 'one',\n",
       " 'other',\n",
       " 'questions',\n",
       " 'study',\n",
       " 'techniques',\n",
       " 'that',\n",
       " 'the',\n",
       " 'to',\n",
       " 'tools',\n",
       " 'traditional',\n",
       " 'two',\n",
       " 'ways',\n",
       " 'with',\n",
       " 'work'}"
      ]
     },
     "execution_count": 16,
     "metadata": {},
     "output_type": "execute_result"
    }
   ],
   "source": [
    "set(sentence_tokens_clean)"
   ]
  },
  {
   "cell_type": "markdown",
   "id": "472d1df7",
   "metadata": {},
   "source": [
    "# most frequent word"
   ]
  },
  {
   "cell_type": "code",
   "execution_count": 17,
   "id": "db85cdc3",
   "metadata": {},
   "outputs": [
    {
     "name": "stdout",
     "output_type": "stream",
     "text": [
      "<FreqDist with 44 samples and 71 outcomes>\n"
     ]
    }
   ],
   "source": [
    "\n",
    "word_frequency = nltk.FreqDist(sentence_tokens)\n",
    "print(word_frequency)"
   ]
  },
  {
   "cell_type": "code",
   "execution_count": 18,
   "id": "cbbcb030",
   "metadata": {},
   "outputs": [
    {
     "name": "stdout",
     "output_type": "stream",
     "text": [
      "[('the', 5), ('it', 3), ('to', 3), ('of', 3), ('digital', 3), ('media', 3), ('humanistic', 3), ('.', 3), ('on', 3), ('that', 2)]\n"
     ]
    }
   ],
   "source": [
    "print(word_frequency.most_common(10))"
   ]
  },
  {
   "cell_type": "markdown",
   "id": "0e849053",
   "metadata": {},
   "source": [
    "# removing stop words"
   ]
  },
  {
   "cell_type": "code",
   "execution_count": 19,
   "id": "021f1124",
   "metadata": {},
   "outputs": [
    {
     "name": "stdout",
     "output_type": "stream",
     "text": [
      "['for', 'me', 'it', 'has', 'to', 'do', 'with', 'the', 'work', 'that', 'gets', 'done', 'at', 'the', 'crossroads', 'of', 'digital', 'media', 'and', 'traditional', 'humanistic', 'study', 'and', 'that', 'happens', 'in', 'two', 'different', 'ways', 'on', 'the', 'one', 'hand', 'it', \"'s\", 'bringing', 'the', 'tools', 'and', 'techniques', 'of', 'digital', 'media', 'to', 'bear', 'on', 'traditional', 'humanistic', 'questions', 'on', 'the', 'other', 'it', \"'s\", 'also', 'bringing', 'humanistic', 'modes', 'of', 'inquiry', 'to', 'bear', 'on', 'digital', 'media']\n"
     ]
    }
   ],
   "source": [
    "sentence_tokens_clean_lc = [word.lower() for word in sentence_tokens_clean]\n",
    "print(sentence_tokens_clean_lc)"
   ]
  },
  {
   "cell_type": "code",
   "execution_count": 20,
   "id": "d05178eb",
   "metadata": {},
   "outputs": [
    {
     "name": "stdout",
     "output_type": "stream",
     "text": [
      "['i', 'me', 'my', 'myself', 'we', 'our', 'ours', 'ourselves', 'you', \"you're\", \"you've\", \"you'll\", \"you'd\", 'your', 'yours', 'yourself', 'yourselves', 'he', 'him', 'his', 'himself', 'she', \"she's\", 'her', 'hers', 'herself', 'it', \"it's\", 'its', 'itself', 'they', 'them', 'their', 'theirs', 'themselves', 'what', 'which', 'who', 'whom', 'this', 'that', \"that'll\", 'these', 'those', 'am', 'is', 'are', 'was', 'were', 'be', 'been', 'being', 'have', 'has', 'had', 'having', 'do', 'does', 'did', 'doing', 'a', 'an', 'the', 'and', 'but', 'if', 'or', 'because', 'as', 'until', 'while', 'of', 'at', 'by', 'for', 'with', 'about', 'against', 'between', 'into', 'through', 'during', 'before', 'after', 'above', 'below', 'to', 'from', 'up', 'down', 'in', 'out', 'on', 'off', 'over', 'under', 'again', 'further', 'then', 'once', 'here', 'there', 'when', 'where', 'why', 'how', 'all', 'any', 'both', 'each', 'few', 'more', 'most', 'other', 'some', 'such', 'no', 'nor', 'not', 'only', 'own', 'same', 'so', 'than', 'too', 'very', 's', 't', 'can', 'will', 'just', 'don', \"don't\", 'should', \"should've\", 'now', 'd', 'll', 'm', 'o', 're', 've', 'y', 'ain', 'aren', \"aren't\", 'couldn', \"couldn't\", 'didn', \"didn't\", 'doesn', \"doesn't\", 'hadn', \"hadn't\", 'hasn', \"hasn't\", 'haven', \"haven't\", 'isn', \"isn't\", 'ma', 'mightn', \"mightn't\", 'mustn', \"mustn't\", 'needn', \"needn't\", 'shan', \"shan't\", 'shouldn', \"shouldn't\", 'wasn', \"wasn't\", 'weren', \"weren't\", 'won', \"won't\", 'wouldn', \"wouldn't\"]\n"
     ]
    }
   ],
   "source": [
    "from nltk.corpus import stopwords\n",
    "print(stopwords.words(\"english\"))"
   ]
  },
  {
   "cell_type": "code",
   "execution_count": null,
   "id": "0bc98f8c",
   "metadata": {},
   "outputs": [],
   "source": []
  }
 ],
 "metadata": {
  "kernelspec": {
   "display_name": "Python 3 (ipykernel)",
   "language": "python",
   "name": "python3"
  },
  "language_info": {
   "codemirror_mode": {
    "name": "ipython",
    "version": 3
   },
   "file_extension": ".py",
   "mimetype": "text/x-python",
   "name": "python",
   "nbconvert_exporter": "python",
   "pygments_lexer": "ipython3",
   "version": "3.10.0"
  }
 },
 "nbformat": 4,
 "nbformat_minor": 5
}
